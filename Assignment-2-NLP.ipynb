{
 "cells": [
  {
   "cell_type": "markdown",
   "id": "20c649e0",
   "metadata": {},
   "source": [
    "## Predicting Emotions of News Contents Using Sentiment Analysis"
   ]
  },
  {
   "cell_type": "markdown",
   "id": "823772f4",
   "metadata": {},
   "source": [
    "- In this question, we will apply sentiment analysis on financial news headlines from a given data set.\n",
    "\n",
    "- By doing so, we can understand the emotion behind the headlines and predict whether the market is being positive or negative toward a stock."
   ]
  },
  {
   "cell_type": "code",
   "execution_count": 6,
   "id": "9480f09e",
   "metadata": {},
   "outputs": [],
   "source": [
    "###(1) Import the necessary library and load the news_data csv file."
   ]
  },
  {
   "cell_type": "code",
   "execution_count": 7,
   "id": "d9b45875",
   "metadata": {},
   "outputs": [],
   "source": [
    "import pandas as pd"
   ]
  },
  {
   "cell_type": "code",
   "execution_count": 8,
   "id": "a41c75a5",
   "metadata": {},
   "outputs": [
    {
     "name": "stdout",
     "output_type": "stream",
     "text": [
      "(500, 4)\n",
      "  ticker       date     time  \\\n",
      "0     fb  Jan-04-19  06:22PM   \n",
      "1     fb  Jan-04-19  05:15PM   \n",
      "2     fb  Jan-04-19  04:55PM   \n",
      "3     fb  Jan-04-19  04:53PM   \n",
      "4     fb  Jan-04-19  04:30PM   \n",
      "\n",
      "                                            headline  \n",
      "0  Facebook, Apple, Netflix, Amazon and Alphabet ...  \n",
      "1  Earnings Reports for the Week of Jan. 7-11 (BB...  \n",
      "2  COLUMN-Commentary: 2019 will be the year of mo...  \n",
      "3                     3 Tech Trends to Watch in 2019  \n",
      "4        Will Denver's tech growth continue in 2019?  \n",
      "['ticker' 'date' 'time' 'headline']\n"
     ]
    }
   ],
   "source": [
    "news=pd.read_csv('Documents/assignment2/news_data.csv')\n",
    "print (news.shape)\n",
    "print (news.head())\n",
    "print (news.columns.values)"
   ]
  },
  {
   "cell_type": "code",
   "execution_count": 9,
   "id": "852065e3",
   "metadata": {},
   "outputs": [],
   "source": [
    "###(2) Use VADER Sentiment Analyer and derive pos/neu/neg/compound sentiment scores for every news headlines.\n",
    "###(3) Merge the sentiment outputs to the existing data set. \n",
    "### As a result, you will have 8 cloumns in your data set such as ticker, date, time, headline, pos,neu,neg,compound."
   ]
  },
  {
   "cell_type": "code",
   "execution_count": 10,
   "id": "a99edc01",
   "metadata": {},
   "outputs": [
    {
     "name": "stderr",
     "output_type": "stream",
     "text": [
      "[nltk_data] Downloading package vader_lexicon to\n",
      "[nltk_data]     /Users/amarisefthimiou/nltk_data...\n",
      "[nltk_data]   Package vader_lexicon is already up-to-date!\n"
     ]
    }
   ],
   "source": [
    "# NLTK VADER for sentiment analysis\n",
    "import nltk\n",
    "nltk.download('vader_lexicon')\n",
    "from nltk.sentiment.vader import SentimentIntensityAnalyzer\n",
    "\n",
    "\n",
    "# Instantiate the sentiment intensity analyzer with the existing lexicon\n",
    "vader = SentimentIntensityAnalyzer()"
   ]
  },
  {
   "cell_type": "code",
   "execution_count": 11,
   "id": "9770e46f",
   "metadata": {},
   "outputs": [
    {
     "name": "stdout",
     "output_type": "stream",
     "text": [
      "(500, 8)\n",
      "  ticker       date     time  \\\n",
      "0     fb  Jan-04-19  06:22PM   \n",
      "1     fb  Jan-04-19  05:15PM   \n",
      "2     fb  Jan-04-19  04:55PM   \n",
      "3     fb  Jan-04-19  04:53PM   \n",
      "4     fb  Jan-04-19  04:30PM   \n",
      "\n",
      "                                            headline  neg    neu    pos  \\\n",
      "0  Facebook, Apple, Netflix, Amazon and Alphabet ...  0.0  0.631  0.369   \n",
      "1  Earnings Reports for the Week of Jan. 7-11 (BB...  0.0  1.000  0.000   \n",
      "2  COLUMN-Commentary: 2019 will be the year of mo...  0.0  1.000  0.000   \n",
      "3                     3 Tech Trends to Watch in 2019  0.0  1.000  0.000   \n",
      "4        Will Denver's tech growth continue in 2019?  0.0  0.698  0.302   \n",
      "\n",
      "   compound  \n",
      "0    0.4767  \n",
      "1    0.0000  \n",
      "2    0.0000  \n",
      "3    0.0000  \n",
      "4    0.3818  \n",
      "['ticker' 'date' 'time' 'headline' 'neg' 'neu' 'pos' 'compound']\n"
     ]
    }
   ],
   "source": [
    "# Iterate through the headlines and get the polarity scores\n",
    "scores = [vader.polarity_scores(headline) for headline in news.headline]\n",
    "# Convert the list of dicts into a DataFrame\n",
    "scores_df = pd.DataFrame(scores)\n",
    "# Join the DataFrames\n",
    "news = news.join(scores_df)\n",
    "# Convert the date column from string to a date\n",
    "#news['date'] = pd.to_datetime(news.date).dt.date\n",
    "print (news.shape)\n",
    "print (news.head())\n",
    "print (news.columns.values)"
   ]
  },
  {
   "cell_type": "code",
   "execution_count": 12,
   "id": "03d8e4a7",
   "metadata": {},
   "outputs": [],
   "source": [
    "### (4) Visualize your outputs for one single day for one particular stock.\n",
    "### Pick one of the tickers, say fb, and a certain date, say 2019 Jan 03, and \n",
    "### plot how the news sentiment (pos,neu,neg this time) changes over time within that day.\n",
    "### you can generate separate plots for each sentiment category and overlay the plots all together at once.\n",
    "### Although there's no one exact way to do this, such plot may work."
   ]
  },
  {
   "cell_type": "code",
   "execution_count": 13,
   "id": "6cade843",
   "metadata": {},
   "outputs": [
    {
     "name": "stdout",
     "output_type": "stream",
     "text": [
      "(200, 8)\n",
      "['ticker' 'date' 'time' 'headline' 'neg' 'neu' 'pos' 'compound']\n",
      "Sep-20-18    30\n",
      "Sep-19-18    25\n",
      "Sep-18-18    22\n",
      "Jan-04-19    21\n",
      "Jan-02-19    21\n",
      "Sep-21-18    21\n",
      "Jan-03-19    20\n",
      "Dec-31-18    15\n",
      "Dec-28-18    11\n",
      "Dec-30-18     6\n",
      "Jan-01-19     3\n",
      "Dec-29-18     3\n",
      "Sep-22-18     2\n",
      "Name: date, dtype: int64\n"
     ]
    }
   ],
   "source": [
    "#pick fb.\n",
    "news_fb=news[news['ticker']=='fb']\n",
    "print (news_fb.shape)\n",
    "print (news_fb.columns.values)\n",
    "print (news_fb['date'].value_counts())"
   ]
  },
  {
   "cell_type": "code",
   "execution_count": 14,
   "id": "b4ba2577",
   "metadata": {},
   "outputs": [
    {
     "name": "stdout",
     "output_type": "stream",
     "text": [
      "(20, 8)\n",
      "   ticker       date     time  \\\n",
      "21     fb  Jan-03-19  10:59PM   \n",
      "22     fb  Jan-03-19  05:45PM   \n",
      "23     fb  Jan-03-19  05:32PM   \n",
      "24     fb  Jan-03-19  05:24PM   \n",
      "25     fb  Jan-03-19  04:10PM   \n",
      "26     fb  Jan-03-19  03:26PM   \n",
      "27     fb  Jan-03-19  03:14PM   \n",
      "28     fb  Jan-03-19  01:36PM   \n",
      "29     fb  Jan-03-19  01:31PM   \n",
      "30     fb  Jan-03-19  12:25PM   \n",
      "31     fb  Jan-03-19  10:42AM   \n",
      "32     fb  Jan-03-19  10:21AM   \n",
      "33     fb  Jan-03-19  10:08AM   \n",
      "34     fb  Jan-03-19  09:58AM   \n",
      "35     fb  Jan-03-19  09:48AM   \n",
      "36     fb  Jan-03-19  09:34AM   \n",
      "37     fb  Jan-03-19  09:12AM   \n",
      "38     fb  Jan-03-19  09:07AM   \n",
      "39     fb  Jan-03-19  08:04AM   \n",
      "40     fb  Jan-03-19  06:00AM   \n",
      "\n",
      "                                             headline    neg    neu    pos  \\\n",
      "21  [$$] Facebook Begins New Year in Fixer-Upper Mode  0.000  1.000  0.000   \n",
      "22  Investors Are Focused Too Closely on Facebook ...  0.000  0.652  0.348   \n",
      "23  [$$] Facebook Begins New Year in Fixer-Upper Mode  0.000  1.000  0.000   \n",
      "24  Facebook (FB) Reportedly Testing Dark Mode on ...  0.000  1.000  0.000   \n",
      "25  Google Stock Upgraded, Viewed As 'Most Defensi...  0.000  0.878  0.122   \n",
      "26      Is Facebook Stock the Best FANG Stock to Buy?  0.000  0.656  0.344   \n",
      "27  Zuckerberg Paused His Selling of Facebook Shar...  0.000  0.662  0.338   \n",
      "28  What's Next For Apple (AAPL) After It Slashed ...  0.147  0.853  0.000   \n",
      "29           Take the Money And Run From Twilio Stock  0.000  1.000  0.000   \n",
      "30  3 Great Reasons You Should Be Bullish on Twili...  0.000  0.661  0.339   \n",
      "31  Why Netflix Stock Will Rise Back Above $300 In...  0.000  1.000  0.000   \n",
      "32  Facebook Under Fire for Collecting Data From A...  0.231  0.769  0.000   \n",
      "33  Mark Zuckerberg Halts Stock Sales as Facebook ...  0.000  0.784  0.216   \n",
      "34                                  Facebook Falls 3%  0.000  1.000  0.000   \n",
      "35                  Stock Market News For Jan 3, 2019  0.000  1.000  0.000   \n",
      "36  Apple warning stoking fears of slowdown in Chi...  0.426  0.574  0.000   \n",
      "37  Why The FAANGs Are Crucial To A 2019 Market Rally  0.000  1.000  0.000   \n",
      "38  The Zacks Analyst Blog Highlights: Facebook, W...  0.000  0.846  0.154   \n",
      "39  3 Big Stock Charts for Thursday: Medtronic, Fa...  0.000  1.000  0.000   \n",
      "40  Why Internet Censorship Doesnt Work and Never ...  0.000  1.000  0.000   \n",
      "\n",
      "    compound  \n",
      "21    0.0000  \n",
      "22    0.5859  \n",
      "23    0.0000  \n",
      "24    0.0000  \n",
      "25    0.1010  \n",
      "26    0.6369  \n",
      "27    0.6249  \n",
      "28   -0.2263  \n",
      "29    0.0000  \n",
      "30    0.6249  \n",
      "31    0.0000  \n",
      "32   -0.3400  \n",
      "33    0.2960  \n",
      "34    0.0000  \n",
      "35    0.0000  \n",
      "36   -0.6369  \n",
      "37    0.0000  \n",
      "38    0.2500  \n",
      "39    0.0000  \n",
      "40    0.0000  \n"
     ]
    }
   ],
   "source": [
    "#pick 01/03/2019.\n",
    "news_fb_one_day=news_fb[news_fb['date']=='Jan-03-19']\n",
    "print (news_fb_one_day.shape)\n",
    "print (news_fb_one_day)"
   ]
  },
  {
   "cell_type": "code",
   "execution_count": 15,
   "id": "dd6bd575",
   "metadata": {},
   "outputs": [
    {
     "name": "stdout",
     "output_type": "stream",
     "text": [
      "ticker              object\n",
      "date                object\n",
      "time        datetime64[ns]\n",
      "headline            object\n",
      "neg                float64\n",
      "neu                float64\n",
      "pos                float64\n",
      "compound           float64\n",
      "dtype: object\n",
      "   ticker       date                time  \\\n",
      "40     fb  Jan-03-19 2023-06-05 06:00:00   \n",
      "39     fb  Jan-03-19 2023-06-05 08:04:00   \n",
      "38     fb  Jan-03-19 2023-06-05 09:07:00   \n",
      "37     fb  Jan-03-19 2023-06-05 09:12:00   \n",
      "36     fb  Jan-03-19 2023-06-05 09:34:00   \n",
      "35     fb  Jan-03-19 2023-06-05 09:48:00   \n",
      "34     fb  Jan-03-19 2023-06-05 09:58:00   \n",
      "33     fb  Jan-03-19 2023-06-05 10:08:00   \n",
      "32     fb  Jan-03-19 2023-06-05 10:21:00   \n",
      "31     fb  Jan-03-19 2023-06-05 10:42:00   \n",
      "30     fb  Jan-03-19 2023-06-05 12:25:00   \n",
      "29     fb  Jan-03-19 2023-06-05 13:31:00   \n",
      "28     fb  Jan-03-19 2023-06-05 13:36:00   \n",
      "27     fb  Jan-03-19 2023-06-05 15:14:00   \n",
      "26     fb  Jan-03-19 2023-06-05 15:26:00   \n",
      "25     fb  Jan-03-19 2023-06-05 16:10:00   \n",
      "24     fb  Jan-03-19 2023-06-05 17:24:00   \n",
      "23     fb  Jan-03-19 2023-06-05 17:32:00   \n",
      "22     fb  Jan-03-19 2023-06-05 17:45:00   \n",
      "21     fb  Jan-03-19 2023-06-05 22:59:00   \n",
      "\n",
      "                                             headline    neg    neu    pos  \\\n",
      "40  Why Internet Censorship Doesnt Work and Never ...  0.000  1.000  0.000   \n",
      "39  3 Big Stock Charts for Thursday: Medtronic, Fa...  0.000  1.000  0.000   \n",
      "38  The Zacks Analyst Blog Highlights: Facebook, W...  0.000  0.846  0.154   \n",
      "37  Why The FAANGs Are Crucial To A 2019 Market Rally  0.000  1.000  0.000   \n",
      "36  Apple warning stoking fears of slowdown in Chi...  0.426  0.574  0.000   \n",
      "35                  Stock Market News For Jan 3, 2019  0.000  1.000  0.000   \n",
      "34                                  Facebook Falls 3%  0.000  1.000  0.000   \n",
      "33  Mark Zuckerberg Halts Stock Sales as Facebook ...  0.000  0.784  0.216   \n",
      "32  Facebook Under Fire for Collecting Data From A...  0.231  0.769  0.000   \n",
      "31  Why Netflix Stock Will Rise Back Above $300 In...  0.000  1.000  0.000   \n",
      "30  3 Great Reasons You Should Be Bullish on Twili...  0.000  0.661  0.339   \n",
      "29           Take the Money And Run From Twilio Stock  0.000  1.000  0.000   \n",
      "28  What's Next For Apple (AAPL) After It Slashed ...  0.147  0.853  0.000   \n",
      "27  Zuckerberg Paused His Selling of Facebook Shar...  0.000  0.662  0.338   \n",
      "26      Is Facebook Stock the Best FANG Stock to Buy?  0.000  0.656  0.344   \n",
      "25  Google Stock Upgraded, Viewed As 'Most Defensi...  0.000  0.878  0.122   \n",
      "24  Facebook (FB) Reportedly Testing Dark Mode on ...  0.000  1.000  0.000   \n",
      "23  [$$] Facebook Begins New Year in Fixer-Upper Mode  0.000  1.000  0.000   \n",
      "22  Investors Are Focused Too Closely on Facebook ...  0.000  0.652  0.348   \n",
      "21  [$$] Facebook Begins New Year in Fixer-Upper Mode  0.000  1.000  0.000   \n",
      "\n",
      "    compound  \n",
      "40    0.0000  \n",
      "39    0.0000  \n",
      "38    0.2500  \n",
      "37    0.0000  \n",
      "36   -0.6369  \n",
      "35    0.0000  \n",
      "34    0.0000  \n",
      "33    0.2960  \n",
      "32   -0.3400  \n",
      "31    0.0000  \n",
      "30    0.6249  \n",
      "29    0.0000  \n",
      "28   -0.2263  \n",
      "27    0.6249  \n",
      "26    0.6369  \n",
      "25    0.1010  \n",
      "24    0.0000  \n",
      "23    0.0000  \n",
      "22    0.5859  \n",
      "21    0.0000  \n",
      "(20, 8)\n"
     ]
    },
    {
     "name": "stderr",
     "output_type": "stream",
     "text": [
      "/var/folders/h8/hss13lq96dl3q2h23z2v29280000gn/T/ipykernel_87317/1733771323.py:2: SettingWithCopyWarning: \n",
      "A value is trying to be set on a copy of a slice from a DataFrame.\n",
      "Try using .loc[row_indexer,col_indexer] = value instead\n",
      "\n",
      "See the caveats in the documentation: https://pandas.pydata.org/pandas-docs/stable/user_guide/indexing.html#returning-a-view-versus-a-copy\n",
      "  news_fb_one_day['time'] = pd.to_datetime(news_fb_one_day['time'])\n"
     ]
    }
   ],
   "source": [
    "#convert time to datetime format if necessary.\n",
    "news_fb_one_day['time'] = pd.to_datetime(news_fb_one_day['time'])\n",
    "print(news_fb_one_day.dtypes)\n",
    "#sort the data by time.\n",
    "news_fb_one_day=news_fb_one_day.sort_values(by='time')\n",
    "print (news_fb_one_day)\n",
    "print (news_fb_one_day.shape)"
   ]
  },
  {
   "cell_type": "code",
   "execution_count": 16,
   "id": "821417af",
   "metadata": {},
   "outputs": [
    {
     "name": "stdout",
     "output_type": "stream",
     "text": [
      "                    ticker       date  \\\n",
      "time                                    \n",
      "2023-06-05 06:00:00     fb  Jan-03-19   \n",
      "2023-06-05 08:04:00     fb  Jan-03-19   \n",
      "2023-06-05 09:07:00     fb  Jan-03-19   \n",
      "2023-06-05 09:12:00     fb  Jan-03-19   \n",
      "2023-06-05 09:34:00     fb  Jan-03-19   \n",
      "2023-06-05 09:48:00     fb  Jan-03-19   \n",
      "2023-06-05 09:58:00     fb  Jan-03-19   \n",
      "2023-06-05 10:08:00     fb  Jan-03-19   \n",
      "2023-06-05 10:21:00     fb  Jan-03-19   \n",
      "2023-06-05 10:42:00     fb  Jan-03-19   \n",
      "2023-06-05 12:25:00     fb  Jan-03-19   \n",
      "2023-06-05 13:31:00     fb  Jan-03-19   \n",
      "2023-06-05 13:36:00     fb  Jan-03-19   \n",
      "2023-06-05 15:14:00     fb  Jan-03-19   \n",
      "2023-06-05 15:26:00     fb  Jan-03-19   \n",
      "2023-06-05 16:10:00     fb  Jan-03-19   \n",
      "2023-06-05 17:24:00     fb  Jan-03-19   \n",
      "2023-06-05 17:32:00     fb  Jan-03-19   \n",
      "2023-06-05 17:45:00     fb  Jan-03-19   \n",
      "2023-06-05 22:59:00     fb  Jan-03-19   \n",
      "\n",
      "                                                              headline    neg  \\\n",
      "time                                                                            \n",
      "2023-06-05 06:00:00  Why Internet Censorship Doesnt Work and Never ...  0.000   \n",
      "2023-06-05 08:04:00  3 Big Stock Charts for Thursday: Medtronic, Fa...  0.000   \n",
      "2023-06-05 09:07:00  The Zacks Analyst Blog Highlights: Facebook, W...  0.000   \n",
      "2023-06-05 09:12:00  Why The FAANGs Are Crucial To A 2019 Market Rally  0.000   \n",
      "2023-06-05 09:34:00  Apple warning stoking fears of slowdown in Chi...  0.426   \n",
      "2023-06-05 09:48:00                  Stock Market News For Jan 3, 2019  0.000   \n",
      "2023-06-05 09:58:00                                  Facebook Falls 3%  0.000   \n",
      "2023-06-05 10:08:00  Mark Zuckerberg Halts Stock Sales as Facebook ...  0.000   \n",
      "2023-06-05 10:21:00  Facebook Under Fire for Collecting Data From A...  0.231   \n",
      "2023-06-05 10:42:00  Why Netflix Stock Will Rise Back Above $300 In...  0.000   \n",
      "2023-06-05 12:25:00  3 Great Reasons You Should Be Bullish on Twili...  0.000   \n",
      "2023-06-05 13:31:00           Take the Money And Run From Twilio Stock  0.000   \n",
      "2023-06-05 13:36:00  What's Next For Apple (AAPL) After It Slashed ...  0.147   \n",
      "2023-06-05 15:14:00  Zuckerberg Paused His Selling of Facebook Shar...  0.000   \n",
      "2023-06-05 15:26:00      Is Facebook Stock the Best FANG Stock to Buy?  0.000   \n",
      "2023-06-05 16:10:00  Google Stock Upgraded, Viewed As 'Most Defensi...  0.000   \n",
      "2023-06-05 17:24:00  Facebook (FB) Reportedly Testing Dark Mode on ...  0.000   \n",
      "2023-06-05 17:32:00  [$$] Facebook Begins New Year in Fixer-Upper Mode  0.000   \n",
      "2023-06-05 17:45:00  Investors Are Focused Too Closely on Facebook ...  0.000   \n",
      "2023-06-05 22:59:00  [$$] Facebook Begins New Year in Fixer-Upper Mode  0.000   \n",
      "\n",
      "                       neu    pos  compound  \n",
      "time                                         \n",
      "2023-06-05 06:00:00  1.000  0.000    0.0000  \n",
      "2023-06-05 08:04:00  1.000  0.000    0.0000  \n",
      "2023-06-05 09:07:00  0.846  0.154    0.2500  \n",
      "2023-06-05 09:12:00  1.000  0.000    0.0000  \n",
      "2023-06-05 09:34:00  0.574  0.000   -0.6369  \n",
      "2023-06-05 09:48:00  1.000  0.000    0.0000  \n",
      "2023-06-05 09:58:00  1.000  0.000    0.0000  \n",
      "2023-06-05 10:08:00  0.784  0.216    0.2960  \n",
      "2023-06-05 10:21:00  0.769  0.000   -0.3400  \n",
      "2023-06-05 10:42:00  1.000  0.000    0.0000  \n",
      "2023-06-05 12:25:00  0.661  0.339    0.6249  \n",
      "2023-06-05 13:31:00  1.000  0.000    0.0000  \n",
      "2023-06-05 13:36:00  0.853  0.000   -0.2263  \n",
      "2023-06-05 15:14:00  0.662  0.338    0.6249  \n",
      "2023-06-05 15:26:00  0.656  0.344    0.6369  \n",
      "2023-06-05 16:10:00  0.878  0.122    0.1010  \n",
      "2023-06-05 17:24:00  1.000  0.000    0.0000  \n",
      "2023-06-05 17:32:00  1.000  0.000    0.0000  \n",
      "2023-06-05 17:45:00  0.652  0.348    0.5859  \n",
      "2023-06-05 22:59:00  1.000  0.000    0.0000  \n",
      "(20, 7)\n",
      "['ticker' 'date' 'headline' 'neg' 'neu' 'pos' 'compound']\n"
     ]
    }
   ],
   "source": [
    "#use time variable as index for this data.\n",
    "news_fb_one_day=news_fb_one_day.set_index('time')\n",
    "print (news_fb_one_day)\n",
    "print (news_fb_one_day.shape)\n",
    "print (news_fb_one_day.columns.values)"
   ]
  },
  {
   "cell_type": "code",
   "execution_count": 17,
   "id": "6997b167",
   "metadata": {
    "scrolled": true
   },
   "outputs": [
    {
     "name": "stderr",
     "output_type": "stream",
     "text": [
      "/var/folders/h8/hss13lq96dl3q2h23z2v29280000gn/T/ipykernel_87317/3545456438.py:5: FutureWarning: In a future version of pandas all arguments of DataFrame.drop except for the argument 'labels' will be keyword-only\n",
      "  plot_day = news_fb_one_day.drop(['ticker','date','headline','compound'], 1)\n"
     ]
    },
    {
     "name": "stdout",
     "output_type": "stream",
     "text": [
      "['neg' 'neu' 'pos']\n",
      "                       neg    neu    pos\n",
      "time                                    \n",
      "2023-06-05 06:00:00  0.000  1.000  0.000\n",
      "2023-06-05 08:04:00  0.000  1.000  0.000\n",
      "2023-06-05 09:07:00  0.000  0.846  0.154\n",
      "2023-06-05 09:12:00  0.000  1.000  0.000\n",
      "2023-06-05 09:34:00  0.426  0.574  0.000\n",
      "2023-06-05 09:48:00  0.000  1.000  0.000\n",
      "2023-06-05 09:58:00  0.000  1.000  0.000\n",
      "2023-06-05 10:08:00  0.000  0.784  0.216\n",
      "2023-06-05 10:21:00  0.231  0.769  0.000\n",
      "2023-06-05 10:42:00  0.000  1.000  0.000\n",
      "2023-06-05 12:25:00  0.000  0.661  0.339\n",
      "2023-06-05 13:31:00  0.000  1.000  0.000\n",
      "2023-06-05 13:36:00  0.147  0.853  0.000\n",
      "2023-06-05 15:14:00  0.000  0.662  0.338\n",
      "2023-06-05 15:26:00  0.000  0.656  0.344\n",
      "2023-06-05 16:10:00  0.000  0.878  0.122\n",
      "2023-06-05 17:24:00  0.000  1.000  0.000\n",
      "2023-06-05 17:32:00  0.000  1.000  0.000\n",
      "2023-06-05 17:45:00  0.000  0.652  0.348\n",
      "2023-06-05 22:59:00  0.000  1.000  0.000\n",
      "['negative' 'neutral' 'positive']\n"
     ]
    },
    {
     "data": {
      "image/png": "[encoded data removed]",
      "text/plain": [
       "<Figure size 720x432 with 1 Axes>"
      ]
     },
     "metadata": {
      "needs_background": "light"
     },
     "output_type": "display_data"
    }
   ],
   "source": [
    "from matplotlib import pyplot as plt\n",
    "\n",
    "three_colors = [\"red\",\"orange\", \"blue\"]\n",
    "# Drop the columns that will not be used for the visualation.\n",
    "plot_day = news_fb_one_day.drop(['ticker','date','headline','compound'], 1)\n",
    "print (plot_day.columns.values)\n",
    "print (plot_day)\n",
    "# Change the column names to 'negative', 'positive', and 'neutral'\n",
    "plot_day.columns = ['negative', 'neutral', 'positive']\n",
    "print (plot_day.columns.values)\n",
    "# Plot a stacked bar chart\n",
    "plot_day.plot.bar(stacked = True, figsize=(10, 6), color = three_colors)\n",
    "plt.ylabel(\"scores\");"
   ]
  },
  {
   "cell_type": "code",
   "execution_count": 18,
   "id": "e9109b8e",
   "metadata": {},
   "outputs": [],
   "source": [
    "### (5) Visualize your outputs to see how the news sentiment of each ticker changes over time.  \n",
    "### Generate time trend plot for the average of compound scores for both tickers at a daily-level. \n",
    "### X axis should be date from the oldest to the newest & Y axis should be the average of compound scores.\n",
    "\n"
   ]
  },
  {
   "cell_type": "code",
   "execution_count": 19,
   "id": "44ddd844",
   "metadata": {},
   "outputs": [
    {
     "name": "stdout",
     "output_type": "stream",
     "text": [
      "                        neg       neu       pos  compound\n",
      "date       ticker                                        \n",
      "2018-09-18 fb      0.104864  0.843682  0.051455 -0.052564\n",
      "           tsla    0.112875  0.807688  0.079437 -0.085650\n",
      "2018-09-19 fb      0.072920  0.805560  0.121640  0.057568\n",
      "           tsla    0.066366  0.879610  0.054000 -0.025949\n",
      "2018-09-20 fb      0.059567  0.870233  0.070200  0.018447\n",
      "           tsla    0.067304  0.762609  0.170087  0.148757\n",
      "2018-09-21 fb      0.052762  0.886381  0.060857  0.014310\n",
      "           tsla    0.102800  0.818600  0.078600 -0.049575\n",
      "2018-09-22 fb      0.000000  0.899000  0.101000  0.255300\n",
      "2018-11-16 tsla    0.022000  0.931810  0.046190  0.026714\n",
      "2018-11-17 tsla    0.000000  0.916500  0.083500  0.190900\n",
      "2018-11-18 tsla    0.000000  0.956667  0.043333  0.067433\n",
      "2018-11-19 tsla    0.093263  0.821105  0.085632  0.002384\n",
      "2018-11-20 tsla    0.014154  0.941308  0.044538  0.066862\n",
      "2018-11-21 tsla    0.056091  0.821273  0.122636  0.162045\n",
      "2018-11-22 tsla    0.370000  0.630000  0.000000 -0.637260\n",
      "2018-11-23 tsla    0.040000  0.920000  0.040000  0.000000\n",
      "2018-11-25 tsla    0.052750  0.801500  0.145750  0.046725\n",
      "2018-11-26 tsla    0.107833  0.828111  0.064056 -0.103317\n",
      "2018-12-28 fb      0.146909  0.816273  0.036818 -0.120973\n",
      "2018-12-29 fb      0.102333  0.836333  0.061333 -0.024933\n",
      "2018-12-30 fb      0.033667  0.817167  0.149167  0.173817\n",
      "2018-12-31 fb      0.089933  0.822333  0.087800 -0.009920\n",
      "2019-01-01 fb      0.000000  0.791667  0.208333  0.291667\n",
      "2019-01-02 fb      0.023857  0.882762  0.093381  0.080748\n",
      "           tsla    0.146347  0.749633  0.104082 -0.046998\n",
      "2019-01-03 fb      0.040200  0.866750  0.093050  0.095820\n",
      "           tsla    0.142045  0.826682  0.031273 -0.131786\n",
      "2019-01-04 fb      0.066524  0.858286  0.075190  0.015771\n",
      "           tsla    0.031034  0.899345  0.069621  0.060776\n",
      "(30, 4)\n",
      "['neg' 'neu' 'pos' 'compound']\n"
     ]
    }
   ],
   "source": [
    "import matplotlib.pyplot as plt\n",
    "plt.style.use(\"ggplot\")\n",
    "%matplotlib inline\n",
    "\n",
    "#convert time to datetime format if necessary.\n",
    "news['date'] = pd.to_datetime(news['date'])\n",
    "\n",
    "# Group by date and ticker columns from scored_news and calculate the mean\n",
    "mean_c = news.groupby(['date', 'ticker']).mean()\n",
    "print (mean_c)\n",
    "print (mean_c.shape)\n",
    "print (mean_c.columns.values)"
   ]
  },
  {
   "cell_type": "code",
   "execution_count": 20,
   "id": "d40b045a",
   "metadata": {},
   "outputs": [
    {
     "name": "stdout",
     "output_type": "stream",
     "text": [
      "after                  neg                 neu                 pos            \\\n",
      "ticker            fb      tsla        fb      tsla        fb      tsla   \n",
      "date                                                                     \n",
      "2018-09-18  0.104864  0.112875  0.843682  0.807688  0.051455  0.079437   \n",
      "2018-09-19  0.072920  0.066366  0.805560  0.879610  0.121640  0.054000   \n",
      "2018-09-20  0.059567  0.067304  0.870233  0.762609  0.070200  0.170087   \n",
      "2018-09-21  0.052762  0.102800  0.886381  0.818600  0.060857  0.078600   \n",
      "2018-09-22  0.000000       NaN  0.899000       NaN  0.101000       NaN   \n",
      "2018-11-16       NaN  0.022000       NaN  0.931810       NaN  0.046190   \n",
      "2018-11-17       NaN  0.000000       NaN  0.916500       NaN  0.083500   \n",
      "2018-11-18       NaN  0.000000       NaN  0.956667       NaN  0.043333   \n",
      "2018-11-19       NaN  0.093263       NaN  0.821105       NaN  0.085632   \n",
      "2018-11-20       NaN  0.014154       NaN  0.941308       NaN  0.044538   \n",
      "2018-11-21       NaN  0.056091       NaN  0.821273       NaN  0.122636   \n",
      "2018-11-22       NaN  0.370000       NaN  0.630000       NaN  0.000000   \n",
      "2018-11-23       NaN  0.040000       NaN  0.920000       NaN  0.040000   \n",
      "2018-11-25       NaN  0.052750       NaN  0.801500       NaN  0.145750   \n",
      "2018-11-26       NaN  0.107833       NaN  0.828111       NaN  0.064056   \n",
      "2018-12-28  0.146909       NaN  0.816273       NaN  0.036818       NaN   \n",
      "2018-12-29  0.102333       NaN  0.836333       NaN  0.061333       NaN   \n",
      "2018-12-30  0.033667       NaN  0.817167       NaN  0.149167       NaN   \n",
      "2018-12-31  0.089933       NaN  0.822333       NaN  0.087800       NaN   \n",
      "2019-01-01  0.000000       NaN  0.791667       NaN  0.208333       NaN   \n",
      "2019-01-02  0.023857  0.146347  0.882762  0.749633  0.093381  0.104082   \n",
      "2019-01-03  0.040200  0.142045  0.866750  0.826682  0.093050  0.031273   \n",
      "2019-01-04  0.066524  0.031034  0.858286  0.899345  0.075190  0.069621   \n",
      "\n",
      "            compound            \n",
      "ticker            fb      tsla  \n",
      "date                            \n",
      "2018-09-18 -0.052564 -0.085650  \n",
      "2018-09-19  0.057568 -0.025949  \n",
      "2018-09-20  0.018447  0.148757  \n",
      "2018-09-21  0.014310 -0.049575  \n",
      "2018-09-22  0.255300       NaN  \n",
      "2018-11-16       NaN  0.026714  \n",
      "2018-11-17       NaN  0.190900  \n",
      "2018-11-18       NaN  0.067433  \n",
      "2018-11-19       NaN  0.002384  \n",
      "2018-11-20       NaN  0.066862  \n",
      "2018-11-21       NaN  0.162045  \n",
      "2018-11-22       NaN -0.637260  \n",
      "2018-11-23       NaN  0.000000  \n",
      "2018-11-25       NaN  0.046725  \n",
      "2018-11-26       NaN -0.103317  \n",
      "2018-12-28 -0.120973       NaN  \n",
      "2018-12-29 -0.024933       NaN  \n",
      "2018-12-30  0.173817       NaN  \n",
      "2018-12-31 -0.009920       NaN  \n",
      "2019-01-01  0.291667       NaN  \n",
      "2019-01-02  0.080748 -0.046998  \n",
      "2019-01-03  0.095820 -0.131786  \n",
      "2019-01-04  0.015771  0.060776  \n"
     ]
    }
   ],
   "source": [
    "# Unstack the column ticker\n",
    "mean_c = mean_c.unstack('ticker')\n",
    "print (\"after\",mean_c)"
   ]
  },
  {
   "cell_type": "code",
   "execution_count": 21,
   "id": "a4c7d8a6",
   "metadata": {},
   "outputs": [
    {
     "name": "stdout",
     "output_type": "stream",
     "text": [
      "ticker            fb      tsla\n",
      "date                          \n",
      "2018-09-18 -0.052564 -0.085650\n",
      "2018-09-19  0.057568 -0.025949\n",
      "2018-09-20  0.018447  0.148757\n",
      "2018-09-21  0.014310 -0.049575\n",
      "2018-09-22  0.255300       NaN\n",
      "2018-11-16       NaN  0.026714\n",
      "2018-11-17       NaN  0.190900\n",
      "2018-11-18       NaN  0.067433\n",
      "2018-11-19       NaN  0.002384\n",
      "2018-11-20       NaN  0.066862\n",
      "2018-11-21       NaN  0.162045\n",
      "2018-11-22       NaN -0.637260\n",
      "2018-11-23       NaN  0.000000\n",
      "2018-11-25       NaN  0.046725\n",
      "2018-11-26       NaN -0.103317\n",
      "2018-12-28 -0.120973       NaN\n",
      "2018-12-29 -0.024933       NaN\n",
      "2018-12-30  0.173817       NaN\n",
      "2018-12-31 -0.009920       NaN\n",
      "2019-01-01  0.291667       NaN\n",
      "2019-01-02  0.080748 -0.046998\n",
      "2019-01-03  0.095820 -0.131786\n",
      "2019-01-04  0.015771  0.060776\n"
     ]
    }
   ],
   "source": [
    "# Get the cross-section of compound in the 'columns' axis\n",
    "mean_c = mean_c.xs(\"compound\", axis=\"columns\")\n",
    "mean_c = mean_c.sort_index()\n",
    "print (mean_c)"
   ]
  },
  {
   "cell_type": "code",
   "execution_count": 25,
   "id": "dbf6360e",
   "metadata": {},
   "outputs": [
    {
     "data": {
      "image/png": "[encoded data removed]",
      "text/plain": [
       "<Figure size 720x360 with 1 Axes>"
      ]
     },
     "metadata": {
      "needs_background": "light"
     },
     "output_type": "display_data"
    }
   ],
   "source": [
    "avg_scores = news.groupby(['date', 'ticker'])['compound'].mean().unstack()\n",
    "\n",
    "TITLE = \"Time trend plot for the average of compound scores for tsla and fb at a daily-level\"\n",
    "COLORS = [\"deeppink\",\"plum\"]\n",
    "\n",
    "avg_scores.plot.bar(stacked=True, figsize=(10,5), title = TITLE, color = COLORS)\n",
    "\n",
    "plt.show()"
   ]
  },
  {
   "cell_type": "code",
   "execution_count": null,
   "id": "d70e1d69",
   "metadata": {},
   "outputs": [],
   "source": []
  }
 ],
 "metadata": {
  "kernelspec": {
   "display_name": "Python 3 (ipykernel)",
   "language": "python",
   "name": "python3"
  },
  "language_info": {
   "codemirror_mode": {
    "name": "ipython",
    "version": 3
   },
   "file_extension": ".py",
   "mimetype": "text/x-python",
   "name": "python",
   "nbconvert_exporter": "python",
   "pygments_lexer": "ipython3",
   "version": "3.9.7"
  }
 },
 "nbformat": 4,
 "nbformat_minor": 5
}
